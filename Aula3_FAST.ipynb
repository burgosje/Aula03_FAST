{
  "nbformat": 4,
  "nbformat_minor": 0,
  "metadata": {
    "colab": {
      "provenance": [],
      "authorship_tag": "ABX9TyOlicR02vbMtqouLOQSi6Ll",
      "include_colab_link": true
    },
    "kernelspec": {
      "name": "python3",
      "display_name": "Python 3"
    },
    "language_info": {
      "name": "python"
    }
  },
  "cells": [
    {
      "cell_type": "markdown",
      "metadata": {
        "id": "view-in-github",
        "colab_type": "text"
      },
      "source": [
        "<a href=\"https://colab.research.google.com/github/burgosje/Aula03_FAST/blob/main/Aula3_FAST.ipynb\" target=\"_parent\"><img src=\"https://colab.research.google.com/assets/colab-badge.svg\" alt=\"Open In Colab\"/></a>"
      ]
    },
    {
      "cell_type": "markdown",
      "source": [
        "Aula 03 do FAST Transição do Cesar School"
      ],
      "metadata": {
        "id": "VI4CmWkGQvGF"
      }
    },
    {
      "cell_type": "markdown",
      "source": [
        "Estruturas de repetição"
      ],
      "metadata": {
        "id": "3a5z69bDr0hT"
      }
    },
    {
      "cell_type": "code",
      "execution_count": null,
      "metadata": {
        "id": "mbWaMMQJqjfi"
      },
      "outputs": [],
      "source": [
        "contador\n",
        "\n",
        "Incremento:\n",
        "cont = cont + 1\n",
        "cont += 1\n",
        "\n",
        "Verificar as ocorrências de um determinado valor"
      ]
    },
    {
      "cell_type": "code",
      "source": [
        "acumulador\n",
        "\n",
        "armazenar os resultados das operações de valores\n",
        "\n",
        "soma = soma + valor\n",
        "soma += valor"
      ],
      "metadata": {
        "id": "G-qYeik7s0G0"
      },
      "execution_count": null,
      "outputs": []
    },
    {
      "cell_type": "markdown",
      "source": [
        "While"
      ],
      "metadata": {
        "id": "-q6NF0BFuAep"
      }
    },
    {
      "cell_type": "code",
      "source": [
        "while condição:\n",
        "  comandos se True"
      ],
      "metadata": {
        "id": "jj5wvLKauDUH"
      },
      "execution_count": null,
      "outputs": []
    },
    {
      "cell_type": "code",
      "source": [
        "num = 1\n",
        "\n",
        "while num != 0:\n",
        "  num = int(input('Digite um numero: '))\n",
        "  if num > 0:\n",
        "    print('Maior que zero')\n",
        "  elif num == 0:\n",
        "    print('Igual a zero')\n",
        "  else:\n",
        "    print('Menor que zero')"
      ],
      "metadata": {
        "colab": {
          "base_uri": "https://localhost:8080/"
        },
        "id": "_mcVr5sUuZ_x",
        "outputId": "917f0f11-63f0-4bad-b751-a3054ecfedaa"
      },
      "execution_count": null,
      "outputs": [
        {
          "output_type": "stream",
          "name": "stdout",
          "text": [
            "Digite um numero: 2\n",
            "Maior que zero\n",
            "Digite um numero: -1\n",
            "Menor que zero\n",
            "Digite um numero: 0\n",
            "Igual a zero\n"
          ]
        }
      ]
    },
    {
      "cell_type": "code",
      "source": [
        "while True:\n",
        "  num = int(input('Digite um numero: '))\n",
        "  if num > 0:\n",
        "    print('Maior que zero')\n",
        "  elif num == 0:\n",
        "    print('Igual a zero')\n",
        "    break\n",
        "  else:\n",
        "    print('Menor que zero')"
      ],
      "metadata": {
        "colab": {
          "base_uri": "https://localhost:8080/"
        },
        "id": "ApF2IbBYvonC",
        "outputId": "4dcdfce9-08e5-47fd-b376-6abefa8abf9f"
      },
      "execution_count": null,
      "outputs": [
        {
          "output_type": "stream",
          "name": "stdout",
          "text": [
            "Digite um numero: 4\n",
            "Maior que zero\n",
            "Digite um numero: -6\n",
            "Menor que zero\n",
            "Digite um numero: 0\n",
            "Igual a zero\n"
          ]
        }
      ]
    },
    {
      "cell_type": "code",
      "source": [
        "cont = 1\n",
        "\n",
        "while cont<=5:\n",
        "  num = int(input('Digite um numero: '))\n",
        "  if num > 0:\n",
        "    print('Maior que zero')\n",
        "  elif num == 0:\n",
        "    print('Igual a zero')\n",
        "  else:\n",
        "    print('Menor que zero')\n",
        "\n",
        "  cont += 1"
      ],
      "metadata": {
        "colab": {
          "base_uri": "https://localhost:8080/"
        },
        "id": "ZTUfblUMv-rz",
        "outputId": "773d0c0f-2297-4acb-acf7-ef4c0ef6da70"
      },
      "execution_count": null,
      "outputs": [
        {
          "output_type": "stream",
          "name": "stdout",
          "text": [
            "Digite um numero: 3\n",
            "Maior que zero\n",
            "Digite um numero: -4\n",
            "Menor que zero\n",
            "Digite um numero: 4\n",
            "Maior que zero\n",
            "Digite um numero: 2\n",
            "Maior que zero\n",
            "Digite um numero: -1\n",
            "Menor que zero\n"
          ]
        }
      ]
    },
    {
      "cell_type": "code",
      "source": [
        "num1 = int(input('Digite o primeiro número: '))\n",
        "num2 = int(input('Digite o segundo número: '))\n",
        "soma = 0\n",
        "\n",
        "while num1<=num2:\n",
        "  if num1%2==0:\n",
        "    soma+=num1\n",
        "  num1+=1\n",
        "\n",
        "print(f'A soma foi {soma}')"
      ],
      "metadata": {
        "colab": {
          "base_uri": "https://localhost:8080/"
        },
        "id": "bLnZ7T3GwQWn",
        "outputId": "1088c344-d55d-4082-b246-89d8a9d197a7"
      },
      "execution_count": null,
      "outputs": [
        {
          "output_type": "stream",
          "name": "stdout",
          "text": [
            "Digite o primeiro número: 2\n",
            "Digite o segundo número: 5\n",
            "A soma foi 6\n"
          ]
        }
      ]
    },
    {
      "cell_type": "code",
      "source": [
        "while True:\n",
        "  num = int(input('Digite um numero: '))\n",
        "  if num > 0:\n",
        "    print('Maior que zero')\n",
        "  elif num == 0:\n",
        "    print('Igual a zero')\n",
        "    break\n",
        "  else:\n",
        "    print('Menor que zero')"
      ],
      "metadata": {
        "id": "i6kfDYMbx94c",
        "colab": {
          "base_uri": "https://localhost:8080/"
        },
        "outputId": "ce76eebf-ed6f-401c-e78b-99e392d3cf47"
      },
      "execution_count": 2,
      "outputs": [
        {
          "output_type": "stream",
          "name": "stdout",
          "text": [
            "Digite um numero: 1\n",
            "Maior que zero\n",
            "Digite um numero: 0\n",
            "Igual a zero\n"
          ]
        }
      ]
    },
    {
      "cell_type": "code",
      "source": [
        "soma = 0\n",
        "\n",
        "while True:\n",
        "  val = float(input('Digite o valor do produto comprado: R$ '))\n",
        "  if val > 0:\n",
        "    soma += val\n",
        "    val += 1\n",
        "  if val == 0:\n",
        "    print('Valor inválido')\n",
        "    break\n",
        "  else:\n",
        "    print('Digite um novo valor')\n",
        "\n",
        "print(f'A soma foi de {soma}')"
      ],
      "metadata": {
        "id": "xgPJobREyodr",
        "colab": {
          "base_uri": "https://localhost:8080/"
        },
        "outputId": "a0373258-e8bc-4bea-c0ae-ab54479e4837"
      },
      "execution_count": 3,
      "outputs": [
        {
          "output_type": "stream",
          "name": "stdout",
          "text": [
            "Digite o valor do produto comprado: R$ 30\n",
            "Digite um novo valor\n",
            "Digite o valor do produto comprado: R$ 15\n",
            "Digite um novo valor\n",
            "Digite o valor do produto comprado: R$ 56\n",
            "Digite um novo valor\n",
            "Digite o valor do produto comprado: R$ 0\n",
            "Valor inválido\n",
            "A soma foi de 101.0\n"
          ]
        }
      ]
    },
    {
      "cell_type": "code",
      "source": [
        "total = 0.0\n",
        "\n",
        "while True:\n",
        "  valor = float(input('Digite o valor da compra: '))\n",
        "\n",
        "  if valor == 0:\n",
        "    break\n",
        "  elif valor < 0:\n",
        "    print('Valor inválido')\n",
        "\n",
        "  total += valor\n",
        "\n",
        "if total > 1000:\n",
        "  total *= 0.9\n",
        "  #total = total - (total*0.10)\n",
        "  #total -= total * 0.10\n",
        "  print(f'Total a pagar {total:.2f}')\n"
      ],
      "metadata": {
        "id": "BWo-J15E0839"
      },
      "execution_count": null,
      "outputs": []
    },
    {
      "cell_type": "code",
      "source": [
        "soma_notas = 0\n",
        "contar_notas = 0\n",
        "\n",
        "while True:\n",
        "  nota = float(input('Digite a nota do aluno: '))\n",
        "\n",
        "  if nota == -1:\n",
        "    break\n",
        "\n",
        "  soma_notas += nota\n",
        "  contar_notas += 1\n",
        "\n",
        "media = soma_notas / contar_notas\n",
        "print(f'A média de {contar_notas} notas foi {media:.2f}')"
      ],
      "metadata": {
        "colab": {
          "base_uri": "https://localhost:8080/"
        },
        "id": "ndI9tTrN4cGh",
        "outputId": "fc1030cb-d4cd-4e07-ee18-fe5c071b6d8d"
      },
      "execution_count": null,
      "outputs": [
        {
          "output_type": "stream",
          "name": "stdout",
          "text": [
            "Digite a nota do aluno: 10\n",
            "Digite a nota do aluno: 8\n",
            "Digite a nota do aluno: 6\n",
            "Digite a nota do aluno: -1\n",
            "A média de 3 notas foi 8.00\n"
          ]
        }
      ]
    },
    {
      "cell_type": "markdown",
      "source": [
        "Loop infinito"
      ],
      "metadata": {
        "id": "J4JbafOZ58v2"
      }
    },
    {
      "cell_type": "code",
      "source": [
        "i = 1\n",
        "\n",
        "while True:\n",
        "  i = i + 1\n",
        "  print(i)"
      ],
      "metadata": {
        "id": "4o4fak3E5Z9P"
      },
      "execution_count": null,
      "outputs": []
    },
    {
      "cell_type": "markdown",
      "source": [
        "For"
      ],
      "metadata": {
        "id": "XP6FcNTv6C_Q"
      }
    },
    {
      "cell_type": "code",
      "source": [
        "loop pré-definido"
      ],
      "metadata": {
        "id": "Qz8S0CIS5_Fa"
      },
      "execution_count": null,
      "outputs": []
    },
    {
      "cell_type": "code",
      "source": [
        "for variável in range(valores):\n",
        "  comandos"
      ],
      "metadata": {
        "id": "Ioo2NI9A6UWD"
      },
      "execution_count": null,
      "outputs": []
    },
    {
      "cell_type": "code",
      "source": [
        "range()\n",
        "\n",
        "especificar um faixa de valores e como será incrementada\n",
        "iniciar em 0 e incrementada de 1 em 1"
      ],
      "metadata": {
        "id": "i8ldwrjh6aIi"
      },
      "execution_count": null,
      "outputs": []
    },
    {
      "cell_type": "code",
      "source": [
        "range(<start>,<end>,<step>)\n",
        "\n",
        "range(10)\n",
        "\n",
        "range(0, 10)\n",
        "\n",
        "range(0, 10, 1)\n",
        "\n",
        "último valor: range - 1"
      ],
      "metadata": {
        "id": "GsDD2UZ06kir"
      },
      "execution_count": null,
      "outputs": []
    },
    {
      "cell_type": "code",
      "source": [
        "for i in range (10):\n",
        "  print(i)"
      ],
      "metadata": {
        "colab": {
          "base_uri": "https://localhost:8080/"
        },
        "id": "F2c9KYLt64M1",
        "outputId": "6f9e4c49-d760-425f-a438-ffc022821b22"
      },
      "execution_count": null,
      "outputs": [
        {
          "output_type": "stream",
          "name": "stdout",
          "text": [
            "0\n",
            "1\n",
            "2\n",
            "3\n",
            "4\n",
            "5\n",
            "6\n",
            "7\n",
            "8\n",
            "9\n"
          ]
        }
      ]
    },
    {
      "cell_type": "code",
      "source": [
        "for i in range (0, 11, 2):\n",
        "  print(i)"
      ],
      "metadata": {
        "colab": {
          "base_uri": "https://localhost:8080/"
        },
        "id": "k_9DAiI47Gmz",
        "outputId": "1bc4edc2-551a-4149-bd8d-1369a7c42f26"
      },
      "execution_count": null,
      "outputs": [
        {
          "output_type": "stream",
          "name": "stdout",
          "text": [
            "0\n",
            "2\n",
            "4\n",
            "6\n",
            "8\n",
            "10\n"
          ]
        }
      ]
    },
    {
      "cell_type": "code",
      "source": [
        "for i in range (10, 0, -2):\n",
        "  print(i)"
      ],
      "metadata": {
        "colab": {
          "base_uri": "https://localhost:8080/"
        },
        "id": "q383HEEN7OAp",
        "outputId": "44fb4279-d93f-41ac-897d-455fd52c8485"
      },
      "execution_count": null,
      "outputs": [
        {
          "output_type": "stream",
          "name": "stdout",
          "text": [
            "10\n",
            "8\n",
            "6\n",
            "4\n",
            "2\n"
          ]
        }
      ]
    },
    {
      "cell_type": "code",
      "source": [
        "for i in range (10):\n",
        "  idade = int(input('Digite sua idade: '))\n",
        "\n",
        "  if idade >= 18:\n",
        "    print('Maior de idade')\n",
        "  else:\n",
        "    print('Menor de idade')"
      ],
      "metadata": {
        "colab": {
          "base_uri": "https://localhost:8080/"
        },
        "id": "yhX_kxXd7V8j",
        "outputId": "19dcdbf3-f154-4352-d13f-86d37b52b075"
      },
      "execution_count": null,
      "outputs": [
        {
          "output_type": "stream",
          "name": "stdout",
          "text": [
            "Digite sua idade: 10\n",
            "Menor de idade\n",
            "Digite sua idade: 20\n",
            "Maior de idade\n",
            "Digite sua idade: 3\n",
            "Menor de idade\n",
            "Digite sua idade: 45\n",
            "Maior de idade\n",
            "Digite sua idade: 6\n",
            "Menor de idade\n",
            "Digite sua idade: 3\n",
            "Menor de idade\n",
            "Digite sua idade: 76\n",
            "Maior de idade\n",
            "Digite sua idade: 5\n",
            "Menor de idade\n",
            "Digite sua idade: 43\n",
            "Maior de idade\n",
            "Digite sua idade: 67\n",
            "Maior de idade\n"
          ]
        }
      ]
    },
    {
      "cell_type": "markdown",
      "source": [
        "Precisa definir o incremento"
      ],
      "metadata": {
        "id": "yESnbtZQ76cp"
      }
    },
    {
      "cell_type": "code",
      "source": [
        "range(10, 2)"
      ],
      "metadata": {
        "colab": {
          "base_uri": "https://localhost:8080/"
        },
        "id": "yQ5_BNk27tWX",
        "outputId": "86eec011-04aa-400d-ea15-c87adcb1903e"
      },
      "execution_count": null,
      "outputs": [
        {
          "output_type": "execute_result",
          "data": {
            "text/plain": [
              "range(10, 2)"
            ]
          },
          "metadata": {},
          "execution_count": 33
        }
      ]
    },
    {
      "cell_type": "code",
      "source": [
        "range(10, 20, -1)"
      ],
      "metadata": {
        "colab": {
          "base_uri": "https://localhost:8080/"
        },
        "id": "Haed6ziJ71q8",
        "outputId": "c5bdd7c2-b808-4ba3-819b-cfdb80acd001"
      },
      "execution_count": null,
      "outputs": [
        {
          "output_type": "execute_result",
          "data": {
            "text/plain": [
              "range(10, 20, -1)"
            ]
          },
          "metadata": {},
          "execution_count": 34
        }
      ]
    },
    {
      "cell_type": "markdown",
      "source": [
        "Fim de comentário"
      ],
      "metadata": {
        "id": "3XXvMpGn796l"
      }
    },
    {
      "cell_type": "code",
      "source": [
        "num = int(input('Digite um valor: '))\n",
        "soma = 0\n",
        "\n",
        "# i representa os divisores do número\n",
        "\n",
        "for i in range(1, num):\n",
        "  if num % i == 0:\n",
        "    soma += i\n",
        "\n",
        "if num == soma:\n",
        "  print('Número perfeito')\n",
        "else:\n",
        "  print('Não é número perfeito')"
      ],
      "metadata": {
        "colab": {
          "base_uri": "https://localhost:8080/"
        },
        "id": "TWPJOZ-o-hRQ",
        "outputId": "94bf35a8-9410-45d0-d4b3-2353d076e5b3"
      },
      "execution_count": null,
      "outputs": [
        {
          "output_type": "stream",
          "name": "stdout",
          "text": [
            "Digite um valor: 10\n",
            "Não é número perfeito\n"
          ]
        }
      ]
    },
    {
      "cell_type": "code",
      "source": [
        "from datetime import date\n",
        "atual = date.today().year\n",
        "totmaior = 0\n",
        "totmenor = 0\n",
        "for pess in range (1, 8):\n",
        "  nasc = int(input('Em que ano a {}ª pessoa nasceu? '.format(pess)))\n",
        "  idade = atual - nasc\n",
        "  if idade >= 18:\n",
        "    totmaior += 1\n",
        "  else:\n",
        "    totmenor += 1\n",
        "\n",
        "print(f'Tivemos {totmaior} pessoas maiores de idade')\n",
        "print(f'Tivemos {totmenor} pessoas menores de idade')"
      ],
      "metadata": {
        "id": "zk4e23QV_93U",
        "colab": {
          "base_uri": "https://localhost:8080/"
        },
        "outputId": "fb49b3c6-9506-4a84-cca4-f969295dcb6c"
      },
      "execution_count": 6,
      "outputs": [
        {
          "output_type": "stream",
          "name": "stdout",
          "text": [
            "Em que ano a 1ª pessoa nasceu? 1980\n",
            "Em que ano a 2ª pessoa nasceu? 1965\n",
            "Em que ano a 3ª pessoa nasceu? 2021\n",
            "Em que ano a 4ª pessoa nasceu? 2003\n",
            "Em que ano a 5ª pessoa nasceu? 2019\n",
            "Em que ano a 6ª pessoa nasceu? 1999\n",
            "Em que ano a 7ª pessoa nasceu? 1991\n",
            "Tivemos 5 pessoas maiores de idade\n",
            "Tivemos 2 pessoas menores de idade\n"
          ]
        }
      ]
    },
    {
      "cell_type": "code",
      "source": [
        "from datetime import date\n",
        "atual = date.today().year\n",
        "totmaior = 0\n",
        "totmenor = 0\n",
        "for pessoa in range(1, 6):\n",
        "  nasc = int(input(f'Em que ano a {pessoa}ª pessoa nasceu? '))\n",
        "  idade = atual - nasc\n",
        "  if idade >= 18:\n",
        "    totmaior += 1\n",
        "  else:\n",
        "    totmenor += 1\n",
        "\n",
        "print(f'Temos {totmaior} pessoas maior de idade')\n",
        "print(f'Temos {totmenor} pessoas menor de idade')"
      ],
      "metadata": {
        "id": "YrqjQq_EAMQ6",
        "colab": {
          "base_uri": "https://localhost:8080/"
        },
        "outputId": "694e75ce-556d-44d9-c7ff-644af4e82d7f"
      },
      "execution_count": 7,
      "outputs": [
        {
          "output_type": "stream",
          "name": "stdout",
          "text": [
            "Em que ano a 1ª pessoa nasceu? 1990\n",
            "Em que ano a 2ª pessoa nasceu? 1998\n",
            "Em que ano a 3ª pessoa nasceu? 1945\n",
            "Em que ano a 4ª pessoa nasceu? 1956\n",
            "Em que ano a 5ª pessoa nasceu? 1960\n",
            "Temos 5 pessoas maior de idade\n",
            "Temos 0 pessoas menor de idade\n"
          ]
        }
      ]
    },
    {
      "cell_type": "code",
      "source": [
        "from datetime import date\n",
        "\n",
        "#ano_atual = 2023\n",
        "ano_atual = date.today().year\n",
        "maior_idade = 0\n",
        "menor_idade = 0\n",
        "\n",
        "\n",
        "for i in range(5):\n",
        "  ano = int(input('Digite o seu ano de nascimento: '))\n",
        "\n",
        "  if ano_atual - ano >= 18:\n",
        "    maior_idade += 1\n",
        "  else:\n",
        "    menor_idade += 1\n",
        "\n",
        "print(f'{maior_idade} pessoas são maiores de idade e {menor_idade} são menores de idade')"
      ],
      "metadata": {
        "id": "tQnyu12-CW8K",
        "colab": {
          "base_uri": "https://localhost:8080/"
        },
        "outputId": "5d805f63-9f28-4876-9e9f-293732da5439"
      },
      "execution_count": 8,
      "outputs": [
        {
          "output_type": "stream",
          "name": "stdout",
          "text": [
            "Digite o seu ano de nascimento: 2022\n",
            "Digite o seu ano de nascimento: 2017\n",
            "Digite o seu ano de nascimento: 2015\n",
            "Digite o seu ano de nascimento: 2003\n",
            "Digite o seu ano de nascimento: 1999\n",
            "2 pessoas são maiores de idade e 3 são menores de idade\n"
          ]
        }
      ]
    },
    {
      "cell_type": "code",
      "source": [
        "#Faça um programa que peça 10 números inteiros, calcule e mostre a quantidade de\n",
        "#números pares e a quantidade de números ímpares.\n",
        "\n",
        "pares = 0\n",
        "impares = 0\n",
        "\n",
        "for i in range(10):\n",
        "  numero = int(input(f'Digite o {i+1}º número: '))\n",
        "\n",
        "  if numero % 2 == 0:\n",
        "    pares += 1\n",
        "  else:\n",
        "    impares += 1\n",
        "\n",
        "print(f'Quantidade de números pares: {pares}')\n",
        "print(f'Quantidade de números impares: {impares}')"
      ],
      "metadata": {
        "colab": {
          "base_uri": "https://localhost:8080/"
        },
        "id": "alITSt4SLFgC",
        "outputId": "572e352e-5f20-4635-a04c-038ec122e24e"
      },
      "execution_count": 9,
      "outputs": [
        {
          "output_type": "stream",
          "name": "stdout",
          "text": [
            "Digite o 1º número: 3\n",
            "Digite o 2º número: 6\n",
            "Digite o 3º número: 5\n",
            "Digite o 4º número: 2\n",
            "Digite o 5º número: 9\n",
            "Digite o 6º número: 1\n",
            "Digite o 7º número: 0\n",
            "Digite o 8º número: 7\n",
            "Digite o 9º número: 4\n",
            "Digite o 10º número: 17\n",
            "Quantidade de números pares: 4\n",
            "Quantidade de números impares: 6\n"
          ]
        }
      ]
    },
    {
      "cell_type": "code",
      "source": [
        "#Foi realizada uma pesquisa de algumas características físicas de 5 alunos de um\n",
        "#curso, a qual coletou os seguintes dados referentes a cada pessoa para serem\n",
        "#analisados:\n",
        "#sexo (masculino e feminino)\n",
        "#cor dos olhos (azuis, verdes ou castanhos)\n",
        "#cor dos cabelos (louros, castanhos, pretos)\n",
        "#idade\n",
        "#\n",
        "#Faça um algoritmo que determine e escreva:\n",
        "#a) a quantidade de pessoas do sexo feminino cuja idade está entre 18 e 35;\n",
        "#b) a quantidade de pessoas que têm olhos castanhos e cabelos pretos.\n",
        "\n",
        "rangeidade = 0\n",
        "sexo_f = 0\n",
        "oc_cp = 0\n",
        "\n",
        "for i in range(5):\n",
        "  sexo = input(\"Digite seu sexo:\\n(F) para Feminino ou (M) para Masculino \")\n",
        "  olhos = input(\"Digite a cor dos seus olhos:\\n(A) Azuis, (V) Verdes ou (C) Castanhos \")\n",
        "  cabelo = input(\"Digite a cor dos seus cabelos:\\n(L) Louros, (C) Castanhos ou (P) Pretos \" )\n",
        "  idade = int(input(\"Digite sua idade:\\n\"))\n",
        "\n",
        "  if sexo == \"Ff\" and 18 <= idade >= 35:\n",
        "    rangeidade += 1\n",
        "  if olhos == \"Cc\" and cabelo == \"Pp\":\n",
        "    oc_cp += 1\n",
        "\n",
        "print(f\"A quantidade de pessoas do sexo feminino com idade entre 18 e 35 anos é: {rangeidade}\")\n",
        "print(f\"A quantidade de pessoas que têm olhos castanhos e cabelos pretos é: {oc_cp}\")"
      ],
      "metadata": {
        "id": "SoSFZAUWvO8E",
        "colab": {
          "base_uri": "https://localhost:8080/"
        },
        "outputId": "b2f76610-f2f1-4959-d1cc-fec93d5203c3"
      },
      "execution_count": 12,
      "outputs": [
        {
          "output_type": "stream",
          "name": "stdout",
          "text": [
            "Digite seu sexo:\n",
            "(F) para Feminino ou (M) para Masculino f\n",
            "Digite a cor dos seus olhos:\n",
            "(A) Azuis, (V) Verdes ou (C) Castanhos a\n",
            "Digite a cor dos seus cabelos:\n",
            "(L) Louros, (C) Castanhos ou (P) Pretos l\n",
            "Digite sua idade:\n",
            "32\n",
            "Digite seu sexo:\n",
            "(F) para Feminino ou (M) para Masculino m\n",
            "Digite a cor dos seus olhos:\n",
            "(A) Azuis, (V) Verdes ou (C) Castanhos v\n",
            "Digite a cor dos seus cabelos:\n",
            "(L) Louros, (C) Castanhos ou (P) Pretos p\n",
            "Digite sua idade:\n",
            "13\n",
            "Digite seu sexo:\n",
            "(F) para Feminino ou (M) para Masculino m\n",
            "Digite a cor dos seus olhos:\n",
            "(A) Azuis, (V) Verdes ou (C) Castanhos v\n",
            "Digite a cor dos seus cabelos:\n",
            "(L) Louros, (C) Castanhos ou (P) Pretos c\n",
            "Digite sua idade:\n",
            "25\n",
            "Digite seu sexo:\n",
            "(F) para Feminino ou (M) para Masculino f\n",
            "Digite a cor dos seus olhos:\n",
            "(A) Azuis, (V) Verdes ou (C) Castanhos c\n",
            "Digite a cor dos seus cabelos:\n",
            "(L) Louros, (C) Castanhos ou (P) Pretos p\n",
            "Digite sua idade:\n",
            "20\n",
            "Digite seu sexo:\n",
            "(F) para Feminino ou (M) para Masculino f\n",
            "Digite a cor dos seus olhos:\n",
            "(A) Azuis, (V) Verdes ou (C) Castanhos v\n",
            "Digite a cor dos seus cabelos:\n",
            "(L) Louros, (C) Castanhos ou (P) Pretos p\n",
            "Digite sua idade:\n",
            "43\n",
            "A quantidade de pessoas do sexo feminino com idade entre 18 e 35 anos é: 0\n",
            "A quantidade de pessoas que têm olhos castanhos e cabelos pretos é: 0\n"
          ]
        }
      ]
    },
    {
      "cell_type": "code",
      "source": [
        "#Um petshop atende 5 cachorros por tarde. Faça um programa que solicite ao usuário\n",
        "#o código do serviço efetuado: (1 - banho; 2 - tosa; 3 - banho e tosa; 4- outros).\n",
        "#Por fim, exiba a quantidade de solicitações para cada um deles.\n",
        "\n",
        "serv1 = 0\n",
        "serv2 = 0\n",
        "serv3 = 0\n",
        "serv4 = 0\n",
        "\n",
        "for i in range(5):\n",
        "  servico = int(input('Selecione qual serviço você quer:\\n(1) Banho\\n(2) Tosa\\n(3) Banho e tosa\\n(4) Outros\\n'))\n",
        "\n",
        "  if servico == 1:\n",
        "    serv1 += 1\n",
        "  elif servico == 2:\n",
        "    serv2 += 1\n",
        "  elif servico == 3:\n",
        "    serv3 += 1\n",
        "  elif servico == 4:\n",
        "    serv4 += 1\n",
        "  else:\n",
        "    print('Código inválido')\n",
        "    servico = int(input('Selecione o código do serviço:\\n(1) Banho\\n(2) Tosa\\n(3) Banho e tosa\\n(4) Outros\\n'))\n",
        "\n",
        "  print(f'Relatório de serviços:\\n(1) Banho: {serv1}\\n(2) Tosa: {serv2}\\n(3) Banho e tosa: {serv3}\\n(4) Outros: {serv4}')"
      ],
      "metadata": {
        "id": "bTzP6plZsf6V",
        "colab": {
          "base_uri": "https://localhost:8080/"
        },
        "outputId": "76b091ff-cd60-4c07-9017-401459b47c1c"
      },
      "execution_count": 13,
      "outputs": [
        {
          "output_type": "stream",
          "name": "stdout",
          "text": [
            "Selecione qual serviço você quer:\n",
            "(1) Banho\n",
            "(2) Tosa\n",
            "(3) Banho e tosa\n",
            "(4) Outros\n",
            "1\n",
            "Relatório de serviços:\n",
            "(1) Banho: 1\n",
            "(2) Tosa: 0\n",
            "(3) Banho e tosa: 0\n",
            "(4) Outros: 0\n",
            "Selecione qual serviço você quer:\n",
            "(1) Banho\n",
            "(2) Tosa\n",
            "(3) Banho e tosa\n",
            "(4) Outros\n",
            "2\n",
            "Relatório de serviços:\n",
            "(1) Banho: 1\n",
            "(2) Tosa: 1\n",
            "(3) Banho e tosa: 0\n",
            "(4) Outros: 0\n",
            "Selecione qual serviço você quer:\n",
            "(1) Banho\n",
            "(2) Tosa\n",
            "(3) Banho e tosa\n",
            "(4) Outros\n",
            "3\n",
            "Relatório de serviços:\n",
            "(1) Banho: 1\n",
            "(2) Tosa: 1\n",
            "(3) Banho e tosa: 1\n",
            "(4) Outros: 0\n",
            "Selecione qual serviço você quer:\n",
            "(1) Banho\n",
            "(2) Tosa\n",
            "(3) Banho e tosa\n",
            "(4) Outros\n",
            "4\n",
            "Relatório de serviços:\n",
            "(1) Banho: 1\n",
            "(2) Tosa: 1\n",
            "(3) Banho e tosa: 1\n",
            "(4) Outros: 1\n",
            "Selecione qual serviço você quer:\n",
            "(1) Banho\n",
            "(2) Tosa\n",
            "(3) Banho e tosa\n",
            "(4) Outros\n",
            "3\n",
            "Relatório de serviços:\n",
            "(1) Banho: 1\n",
            "(2) Tosa: 1\n",
            "(3) Banho e tosa: 2\n",
            "(4) Outros: 1\n"
          ]
        }
      ]
    },
    {
      "cell_type": "code",
      "source": [
        "#Desenvolva um programa utilizando o para que faça a tabuada de um número\n",
        "#inteiro que será digitado pelo usuário. Mas a tabuada não deve necessariamente\n",
        "#iniciar em 1 e terminar em 10, o valor inicial e final devem ser informados pelo\n",
        "#usuário.\n",
        "#\n",
        "#Segue um exemplo: Montar a tabuada do: 5\n",
        "#Começar por: 4\n",
        "#Terminar em: 7\n",
        "#\n",
        "#Saída de dados:\n",
        "#5 x 4 = 20\n",
        "#5 x 5 = 25\n",
        "#5 x 6 = 30\n",
        "#5 x 7 = 35\n",
        "\n",
        "num = int(input(\"Montar a tabuada de: \"))\n",
        "\n",
        "comeco = int(input(\"Calcular de: \"))\n",
        "fim = int(input(\"Calcula até: \"))\n",
        "\n",
        "for i in range(comeco, fim + 1):\n",
        "  resultado = num * i\n",
        "  print(f'{num} x {i} = {resultado}')"
      ],
      "metadata": {
        "id": "BgWIhPb00liq",
        "colab": {
          "base_uri": "https://localhost:8080/"
        },
        "outputId": "44e0c5ff-288d-4a3e-b847-3dc11a905895"
      },
      "execution_count": 14,
      "outputs": [
        {
          "output_type": "stream",
          "name": "stdout",
          "text": [
            "Montar a tabuada de: 2\n",
            "Calcular de: 6\n",
            "Calcula até: 9\n",
            "2 x 6 = 12\n",
            "2 x 7 = 14\n",
            "2 x 8 = 16\n",
            "2 x 9 = 18\n"
          ]
        }
      ]
    },
    {
      "cell_type": "code",
      "source": [
        "#Crie um programa que leia vários números digitados pelo usuário e mostre no final\n",
        "#o somatório entre eles. Obs: O programa será interrompido quando o número 1111 for\n",
        "#digitado.\n",
        "\n",
        "soma = 0\n",
        "\n",
        "while True:\n",
        "  numero = int(input(\"Digite um número para ser somado.\\nCaso você digite 1111, o programa será interrompido \"))\n",
        "\n",
        "  if numero == 1111:\n",
        "    break\n",
        "\n",
        "  soma += numero\n",
        "\n",
        "print(f\"A soma dos números é: {soma}\")"
      ],
      "metadata": {
        "id": "I6VxAxIl2w4d",
        "colab": {
          "base_uri": "https://localhost:8080/"
        },
        "outputId": "9edfca08-5cfc-4895-831d-f85284294106"
      },
      "execution_count": 15,
      "outputs": [
        {
          "output_type": "stream",
          "name": "stdout",
          "text": [
            "Digite um número para ser somado.\n",
            "Caso você digite 1111, o programa será interrompido 45\n",
            "Digite um número para ser somado.\n",
            "Caso você digite 1111, o programa será interrompido 67\n",
            "Digite um número para ser somado.\n",
            "Caso você digite 1111, o programa será interrompido 87\n",
            "Digite um número para ser somado.\n",
            "Caso você digite 1111, o programa será interrompido 10\n",
            "Digite um número para ser somado.\n",
            "Caso você digite 1111, o programa será interrompido 1111\n",
            "A soma dos números é: 209\n"
          ]
        }
      ]
    },
    {
      "cell_type": "code",
      "source": [
        "#Um número é considerado triangular se ele é produto de três números naturais\n",
        "#consecutivos. Por exemplo: 120 é triangular, pois 4*5*6 = 120. O número 2730 é\n",
        "#triangular, pois 13*14*15 = 2730. Após o usuário digitar um número natural\n",
        "#(inteiro não-negativo), verifique se ele é triangular ou não.\n",
        "\n",
        "#Como dica para resolver a questão você usa o número digitado como o limite do for e dentro do for você pode usar uma variável para somar o i e verificar se é igual ao número\n",
        "#digitado.  Como o exemplo: 120 é triangular, pois 4*5*6 = 120.\n",
        "#Observa que um número triangular possui uma sequência.\n",
        "\n",
        "numero = int(input(\"Digite um número natural: \"))\n",
        "produto = 1\n",
        "valor_atual = 1\n",
        "\n",
        "while produto < numero:\n",
        "  valor_atual +=1\n",
        "  produto *= valor_atual\n",
        "\n",
        "if produto == numero:\n",
        "  print(f\"O {numero} é um número triangular\")\n",
        "else:\n",
        "  print(f\"O {numero} não é triangular\")"
      ],
      "metadata": {
        "id": "ntCtfwmY4Q8y",
        "colab": {
          "base_uri": "https://localhost:8080/"
        },
        "outputId": "16ed1348-f3e6-44d3-9e73-fb6485106aa7"
      },
      "execution_count": 17,
      "outputs": [
        {
          "output_type": "stream",
          "name": "stdout",
          "text": [
            "Digite um número natural: 120\n",
            "O 120 é um número triangular\n"
          ]
        }
      ]
    },
    {
      "cell_type": "code",
      "source": [
        "#Peça ao usuário que informe um número, logo após, calcula e exibe o fatorial do\n",
        "#número digitado. O fatorial de um número é calculado multiplicando todos os\n",
        "#valores inteiros entre o próprio número e 1.\n",
        "#Exemplo: 5! = 5 x 4 x 3 x 2 x 1 = 120\n",
        "\n",
        "n = int(input(\"Digite um número para calcular seu fatorial: \"))\n",
        "c = n\n",
        "f = 1\n",
        "\n",
        "print(f\"Calculando {n}!\")\n",
        "\n",
        "while c > 0:\n",
        "  print(f\"{c}\", end = \" \")\n",
        "  print(\"x\" if c > 1 else \" = \", end = \" \")\n",
        "  f *= c\n",
        "  c -= 1\n",
        "\n",
        "print(f\"{f}\")"
      ],
      "metadata": {
        "id": "ZH9QxKhE7bXI",
        "colab": {
          "base_uri": "https://localhost:8080/"
        },
        "outputId": "8f882d4d-9749-4771-8fe9-e052f943679f"
      },
      "execution_count": 18,
      "outputs": [
        {
          "output_type": "stream",
          "name": "stdout",
          "text": [
            "Digite um número para calcular seu fatorial: 5\n",
            "Calculando 5!\n",
            "5 x 4 x 3 x 2 x 1  =  120\n"
          ]
        }
      ]
    }
  ]
}